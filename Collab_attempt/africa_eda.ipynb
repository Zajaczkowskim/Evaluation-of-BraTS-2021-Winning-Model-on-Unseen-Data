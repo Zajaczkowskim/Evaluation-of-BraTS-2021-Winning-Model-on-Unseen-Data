{
 "cells": [
  {
   "cell_type": "code",
   "execution_count": null,
   "id": "558b341c",
   "metadata": {},
   "outputs": [],
   "source": [
    "import pandas as pd\n",
    "import numpy as np\n",
    "import matplotlib.pyplot as plt\n",
    "import json\n",
    "import csv"
   ]
  },
  {
   "cell_type": "code",
   "execution_count": null,
   "id": "a031589a",
   "metadata": {},
   "outputs": [
    {
     "name": "stdout",
     "output_type": "stream",
     "text": [
      "✅ CSV saved to: africa_results/summary.csv\n"
     ]
    }
   ],
   "source": [
    "json_path = \"africa_results/summary.json\"\n",
    "csv_path = \"africa_results/summary.csv\"\n",
    "\n",
    "# Load JSON\n",
    "with open(json_path, 'r') as f:\n",
    "    data = json.load(f)\n",
    "\n",
    "# Parse relevant data\n",
    "results = data['results']['all']\n",
    "rows = []\n",
    "\n",
    "for case in results:\n",
    "    reference = case['reference']\n",
    "    test = case['test']\n",
    "    for label in ['1', '2', '3']:\n",
    "        if label in case:\n",
    "            metrics = case[label]\n",
    "            row = {\n",
    "                'Reference': reference,\n",
    "                'Test': test,\n",
    "                'Label': label,\n",
    "                **metrics\n",
    "            }\n",
    "            rows.append(row)\n",
    "\n",
    "# Define column order\n",
    "fieldnames = [\"Reference\", \"Test\", \"Label\"] + list(rows[0].keys())[3:]\n",
    "\n",
    "# Write CSV\n",
    "with open(csv_path, mode='w', newline='') as csv_file:\n",
    "    writer = csv.DictWriter(csv_file, fieldnames=fieldnames)\n",
    "    writer.writeheader()\n",
    "    writer.writerows(rows)"
   ]
  },
  {
   "cell_type": "code",
   "execution_count": 13,
   "id": "bc477fb6",
   "metadata": {},
   "outputs": [],
   "source": [
    "df = pd.read_csv(csv_path)"
   ]
  },
  {
   "cell_type": "code",
   "execution_count": 18,
   "id": "42f52e94",
   "metadata": {},
   "outputs": [
    {
     "data": {
      "text/html": [
       "<div>\n",
       "<style scoped>\n",
       "    .dataframe tbody tr th:only-of-type {\n",
       "        vertical-align: middle;\n",
       "    }\n",
       "\n",
       "    .dataframe tbody tr th {\n",
       "        vertical-align: top;\n",
       "    }\n",
       "\n",
       "    .dataframe thead th {\n",
       "        text-align: right;\n",
       "    }\n",
       "</style>\n",
       "<table border=\"1\" class=\"dataframe\">\n",
       "  <thead>\n",
       "    <tr style=\"text-align: right;\">\n",
       "      <th></th>\n",
       "      <th>Reference</th>\n",
       "      <th>Test</th>\n",
       "      <th>Label</th>\n",
       "      <th>Accuracy</th>\n",
       "      <th>Dice</th>\n",
       "      <th>False Discovery Rate</th>\n",
       "      <th>False Negative Rate</th>\n",
       "      <th>False Omission Rate</th>\n",
       "      <th>False Positive Rate</th>\n",
       "      <th>Jaccard</th>\n",
       "      <th>Negative Predictive Value</th>\n",
       "      <th>Precision</th>\n",
       "      <th>Recall</th>\n",
       "      <th>Total Positives Reference</th>\n",
       "      <th>Total Positives Test</th>\n",
       "      <th>True Negative Rate</th>\n",
       "    </tr>\n",
       "  </thead>\n",
       "  <tbody>\n",
       "    <tr>\n",
       "      <th>0</th>\n",
       "      <td>/content/nnUNet_raw_data_base/nnUNet_raw_data/...</td>\n",
       "      <td>/content/OUTPUT_DIRECTORY/BraTS-SSA-00002-000....</td>\n",
       "      <td>1</td>\n",
       "      <td>0.980196</td>\n",
       "      <td>0.012974</td>\n",
       "      <td>0.993265</td>\n",
       "      <td>0.824019</td>\n",
       "      <td>0.000621</td>\n",
       "      <td>0.019209</td>\n",
       "      <td>0.006529</td>\n",
       "      <td>0.999379</td>\n",
       "      <td>0.006735</td>\n",
       "      <td>0.175981</td>\n",
       "      <td>6603</td>\n",
       "      <td>172530</td>\n",
       "      <td>0.980791</td>\n",
       "    </tr>\n",
       "    <tr>\n",
       "      <th>1</th>\n",
       "      <td>/content/nnUNet_raw_data_base/nnUNet_raw_data/...</td>\n",
       "      <td>/content/OUTPUT_DIRECTORY/BraTS-SSA-00002-000....</td>\n",
       "      <td>2</td>\n",
       "      <td>0.981716</td>\n",
       "      <td>0.324159</td>\n",
       "      <td>0.235420</td>\n",
       "      <td>0.794319</td>\n",
       "      <td>0.017032</td>\n",
       "      <td>0.001380</td>\n",
       "      <td>0.193430</td>\n",
       "      <td>0.982968</td>\n",
       "      <td>0.764580</td>\n",
       "      <td>0.205681</td>\n",
       "      <td>190334</td>\n",
       "      <td>51202</td>\n",
       "      <td>0.998620</td>\n",
       "    </tr>\n",
       "    <tr>\n",
       "      <th>2</th>\n",
       "      <td>/content/nnUNet_raw_data_base/nnUNet_raw_data/...</td>\n",
       "      <td>/content/OUTPUT_DIRECTORY/BraTS-SSA-00002-000....</td>\n",
       "      <td>3</td>\n",
       "      <td>0.997589</td>\n",
       "      <td>0.000000</td>\n",
       "      <td>NaN</td>\n",
       "      <td>1.000000</td>\n",
       "      <td>0.002411</td>\n",
       "      <td>0.000000</td>\n",
       "      <td>0.000000</td>\n",
       "      <td>0.997589</td>\n",
       "      <td>NaN</td>\n",
       "      <td>0.000000</td>\n",
       "      <td>21524</td>\n",
       "      <td>0</td>\n",
       "      <td>1.000000</td>\n",
       "    </tr>\n",
       "    <tr>\n",
       "      <th>3</th>\n",
       "      <td>/content/nnUNet_raw_data_base/nnUNet_raw_data/...</td>\n",
       "      <td>/content/OUTPUT_DIRECTORY/BraTS-SSA-00007-000....</td>\n",
       "      <td>1</td>\n",
       "      <td>0.976354</td>\n",
       "      <td>0.003380</td>\n",
       "      <td>0.998034</td>\n",
       "      <td>0.987959</td>\n",
       "      <td>0.003358</td>\n",
       "      <td>0.020424</td>\n",
       "      <td>0.001693</td>\n",
       "      <td>0.996642</td>\n",
       "      <td>0.001966</td>\n",
       "      <td>0.012041</td>\n",
       "      <td>29731</td>\n",
       "      <td>182093</td>\n",
       "      <td>0.979576</td>\n",
       "    </tr>\n",
       "    <tr>\n",
       "      <th>4</th>\n",
       "      <td>/content/nnUNet_raw_data_base/nnUNet_raw_data/...</td>\n",
       "      <td>/content/OUTPUT_DIRECTORY/BraTS-SSA-00007-000....</td>\n",
       "      <td>2</td>\n",
       "      <td>0.972722</td>\n",
       "      <td>0.200753</td>\n",
       "      <td>0.746700</td>\n",
       "      <td>0.833737</td>\n",
       "      <td>0.017415</td>\n",
       "      <td>0.010311</td>\n",
       "      <td>0.111576</td>\n",
       "      <td>0.982585</td>\n",
       "      <td>0.253300</td>\n",
       "      <td>0.166263</td>\n",
       "      <td>183962</td>\n",
       "      <td>120750</td>\n",
       "      <td>0.989689</td>\n",
       "    </tr>\n",
       "  </tbody>\n",
       "</table>\n",
       "</div>"
      ],
      "text/plain": [
       "                                           Reference  \\\n",
       "0  /content/nnUNet_raw_data_base/nnUNet_raw_data/...   \n",
       "1  /content/nnUNet_raw_data_base/nnUNet_raw_data/...   \n",
       "2  /content/nnUNet_raw_data_base/nnUNet_raw_data/...   \n",
       "3  /content/nnUNet_raw_data_base/nnUNet_raw_data/...   \n",
       "4  /content/nnUNet_raw_data_base/nnUNet_raw_data/...   \n",
       "\n",
       "                                                Test  Label  Accuracy  \\\n",
       "0  /content/OUTPUT_DIRECTORY/BraTS-SSA-00002-000....      1  0.980196   \n",
       "1  /content/OUTPUT_DIRECTORY/BraTS-SSA-00002-000....      2  0.981716   \n",
       "2  /content/OUTPUT_DIRECTORY/BraTS-SSA-00002-000....      3  0.997589   \n",
       "3  /content/OUTPUT_DIRECTORY/BraTS-SSA-00007-000....      1  0.976354   \n",
       "4  /content/OUTPUT_DIRECTORY/BraTS-SSA-00007-000....      2  0.972722   \n",
       "\n",
       "       Dice  False Discovery Rate  False Negative Rate  False Omission Rate  \\\n",
       "0  0.012974              0.993265             0.824019             0.000621   \n",
       "1  0.324159              0.235420             0.794319             0.017032   \n",
       "2  0.000000                   NaN             1.000000             0.002411   \n",
       "3  0.003380              0.998034             0.987959             0.003358   \n",
       "4  0.200753              0.746700             0.833737             0.017415   \n",
       "\n",
       "   False Positive Rate   Jaccard  Negative Predictive Value  Precision  \\\n",
       "0             0.019209  0.006529                   0.999379   0.006735   \n",
       "1             0.001380  0.193430                   0.982968   0.764580   \n",
       "2             0.000000  0.000000                   0.997589        NaN   \n",
       "3             0.020424  0.001693                   0.996642   0.001966   \n",
       "4             0.010311  0.111576                   0.982585   0.253300   \n",
       "\n",
       "     Recall  Total Positives Reference  Total Positives Test  \\\n",
       "0  0.175981                       6603                172530   \n",
       "1  0.205681                     190334                 51202   \n",
       "2  0.000000                      21524                     0   \n",
       "3  0.012041                      29731                182093   \n",
       "4  0.166263                     183962                120750   \n",
       "\n",
       "   True Negative Rate  \n",
       "0            0.980791  \n",
       "1            0.998620  \n",
       "2            1.000000  \n",
       "3            0.979576  \n",
       "4            0.989689  "
      ]
     },
     "execution_count": 18,
     "metadata": {},
     "output_type": "execute_result"
    }
   ],
   "source": [
    "df.head()"
   ]
  },
  {
   "cell_type": "code",
   "execution_count": 19,
   "id": "e95dac68",
   "metadata": {},
   "outputs": [],
   "source": [
    "df[\"Reference\"] = df[\"Reference\"].str.removeprefix(\"/content/nnUNet_raw_data_base/nnUNet_raw_data/Task02_BrainSSA/labelsTr/\")"
   ]
  },
  {
   "cell_type": "code",
   "execution_count": 20,
   "id": "beb8631c",
   "metadata": {},
   "outputs": [],
   "source": [
    "df.drop(columns=[\"Test\"], inplace=True)"
   ]
  },
  {
   "cell_type": "code",
   "execution_count": null,
   "id": "9f754e1b",
   "metadata": {},
   "outputs": [],
   "source": [
    "import nibabel as nib\n",
    "\n",
    "ni = nib.load(\"africa_results/Output_data/content/OUTPUT_DIRECTORY/\" + df.iloc[10][\"Reference\"])"
   ]
  },
  {
   "cell_type": "code",
   "execution_count": 44,
   "id": "2fb913bb",
   "metadata": {},
   "outputs": [
    {
     "name": "stdout",
     "output_type": "stream",
     "text": [
      "<class 'nibabel.nifti1.Nifti1Header'> object, endian='<'\n",
      "sizeof_hdr      : 348\n",
      "data_type       : b''\n",
      "db_name         : b''\n",
      "extents         : 0\n",
      "session_error   : 0\n",
      "regular         : b'r'\n",
      "dim_info        : 0\n",
      "dim             : [  3 240 240 155   1   1   1   1]\n",
      "intent_p1       : 0.0\n",
      "intent_p2       : 0.0\n",
      "intent_p3       : 0.0\n",
      "intent_code     : none\n",
      "datatype        : uint8\n",
      "bitpix          : 8\n",
      "slice_start     : 0\n",
      "pixdim          : [1. 1. 1. 1. 0. 0. 0. 0.]\n",
      "vox_offset      : 0.0\n",
      "scl_slope       : nan\n",
      "scl_inter       : nan\n",
      "slice_end       : 0\n",
      "slice_code      : unknown\n",
      "xyzt_units      : 10\n",
      "cal_max         : 0.0\n",
      "cal_min         : 0.0\n",
      "slice_duration  : 0.0\n",
      "toffset         : 0.0\n",
      "glmax           : 0\n",
      "glmin           : 0\n",
      "descrip         : b''\n",
      "aux_file        : b''\n",
      "qform_code      : scanner\n",
      "sform_code      : scanner\n",
      "quatern_b       : 0.0\n",
      "quatern_c       : 0.0\n",
      "quatern_d       : 0.0\n",
      "qoffset_x       : -0.0\n",
      "qoffset_y       : 239.0\n",
      "qoffset_z       : 0.0\n",
      "srow_x          : [ 1.  0. -0. -0.]\n",
      "srow_y          : [  0.   1.  -0. 239.]\n",
      "srow_z          : [0. 0. 1. 0.]\n",
      "intent_name     : b''\n",
      "magic           : b'n+1'\n"
     ]
    }
   ],
   "source": [
    "print(ni.header)"
   ]
  },
  {
   "cell_type": "code",
   "execution_count": 96,
   "id": "cffe8b01",
   "metadata": {},
   "outputs": [
    {
     "name": "stdout",
     "output_type": "stream",
     "text": [
      "Statistics of Dice Score: \n",
      "\tmean: 0.08, \n",
      "\tvariance: 0.03, \n",
      "\tstandard deviation: 0.16, \n",
      "\tnr of non 0 cases: 103\n"
     ]
    }
   ],
   "source": [
    "print(f\"Statistics of Dice Score: \\n\\tmean: {df[\"Dice\"].mean():.2f}, \\n\\tvariance: {df[\"Dice\"].var():.2f}, \\n\\tstandard deviation: {df[\"Dice\"].std():.2f}, \\n\\tnr of non 0 cases: {len(df[df[\"Dice\"] > 0])}\")"
   ]
  },
  {
   "cell_type": "code",
   "execution_count": 83,
   "id": "4a19b8af",
   "metadata": {},
   "outputs": [
    {
     "data": {
      "image/png": "[encoded data removed]",
      "text/plain": [
       "<Figure size 640x480 with 1 Axes>"
      ]
     },
     "metadata": {},
     "output_type": "display_data"
    }
   ],
   "source": [
    "plt.boxplot(df[\"Dice\"], showfliers=False)\n",
    "plt.scatter(np.random.normal(1, 0.02, size=len(df[\"Dice\"])), df[\"Dice\"], alpha=0.5, color='red')\n",
    "plt.title('Distribution of Dice Scores for Africa Dataset')\n",
    "plt.axhline(y=df[\"Dice\"].mean(), color='r', linestyle='--', label=f'Mean {df[\"Dice\"].mean():.2f}')\n",
    "plt.axhline(y=df[\"Dice\"].mean() + df[\"Dice\"].std(), color='g', linestyle='--', label='Mean + Std')\n",
    "plt.axhline(y=df[\"Dice\"].mean() - df[\"Dice\"].std(), color='b', linestyle='--', label='Mean - Std')\n",
    "plt.legend()\n",
    "plt.xlabel('Dice Score')\n",
    "plt.ylabel('Score')\n",
    "plt.show()"
   ]
  },
  {
   "cell_type": "code",
   "execution_count": null,
   "id": "c36dd48a",
   "metadata": {},
   "outputs": [
    {
     "data": {
      "image/png": "[encoded data removed]",
      "text/plain": [
       "<Figure size 640x480 with 1 Axes>"
      ]
     },
     "metadata": {},
     "output_type": "display_data"
    }
   ],
   "source": [
    "plt.boxplot(df[\"Accuracy\"])\n",
    "plt.title('Distribution of Accuracy Scores for Africa Dataset')\n",
    "plt.show()"
   ]
  }
 ],
 "metadata": {
  "kernelspec": {
   "display_name": "Python 3",
   "language": "python",
   "name": "python3"
  },
  "language_info": {
   "codemirror_mode": {
    "name": "ipython",
    "version": 3
   },
   "file_extension": ".py",
   "mimetype": "text/x-python",
   "name": "python",
   "nbconvert_exporter": "python",
   "pygments_lexer": "ipython3",
   "version": "3.12.2"
  }
 },
 "nbformat": 4,
 "nbformat_minor": 5
}
