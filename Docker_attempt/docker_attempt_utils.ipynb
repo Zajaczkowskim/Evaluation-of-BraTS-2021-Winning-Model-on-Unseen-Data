{
 "cells": [
  {
   "cell_type": "markdown",
   "id": "be61f19a",
   "metadata": {},
   "source": [
    "# **Prepare directories:**"
   ]
  },
  {
   "cell_type": "code",
   "execution_count": 12,
   "id": "9cae4f0b",
   "metadata": {},
   "outputs": [],
   "source": [
    "import os\n",
    "import shutil\n",
    "import random\n",
    "\n",
    "def prepare_brats_data(folder_path, abbreviation, sample_size):\n",
    "\n",
    "    if not os.path.isdir(folder_path):\n",
    "        raise ValueError(f\"Directory does not exist: {folder_path}\")\n",
    "    \n",
    "    folder_path = os.path.abspath(folder_path)\n",
    "    base_folder_name = os.path.basename(folder_path)\n",
    "    output_root = os.path.join(os.path.dirname(folder_path), f\"{base_folder_name}_processed\")\n",
    "\n",
    "    segmentation_dir = os.path.join(output_root, \"segmentation\")\n",
    "    input_dir = os.path.join(output_root, \"input\")\n",
    "    output_dir = os.path.join(output_root, \"output\")\n",
    "    all_dir = os.path.join(output_root, \"all\")\n",
    "\n",
    "    os.makedirs(segmentation_dir, exist_ok=True)\n",
    "    os.makedirs(input_dir, exist_ok=True)\n",
    "    os.makedirs(output_dir, exist_ok=True)\n",
    "    os.makedirs(all_dir, exist_ok=True)\n",
    "\n",
    "    all_patients = [d for d in os.listdir(folder_path) if os.path.isdir(os.path.join(folder_path, d))]\n",
    "    if len(all_patients) < sample_size:\n",
    "        raise ValueError(f\"Too few patients: found {len(all_patients)}, but {sample_size} were requested.\")\n",
    "\n",
    "    chosen_patients = random.sample(all_patients, sample_size)\n",
    "    print(f\"Chose {sample_size} patients from {len(all_patients)} available.\")\n",
    "\n",
    "    modality_map = {\n",
    "        \"t1n\": \"t1\",\n",
    "        \"t1c\": \"t1ce\",\n",
    "        \"t2w\": \"t2\",\n",
    "        \"t2f\": \"flair\"\n",
    "    }\n",
    "\n",
    "    for patient_folder in chosen_patients:\n",
    "        full_path = os.path.join(folder_path, patient_folder)\n",
    "        parts = patient_folder.split(\"-\")\n",
    "        if len(parts) < 4:\n",
    "            print(f\"Skipped due to bad directory name: {patient_folder}\")\n",
    "            continue\n",
    "\n",
    "        patient_id = parts[2]\n",
    "\n",
    "        for raw_mod, new_mod in modality_map.items():\n",
    "            src = os.path.join(full_path, f\"{patient_folder}-{raw_mod}.nii.gz\")\n",
    "            dst = os.path.join(all_dir, f\"BraTS{abbreviation}_{patient_id}_{new_mod}.nii.gz\")\n",
    "            if os.path.exists(src):\n",
    "                shutil.copy(src, dst)\n",
    "            else:\n",
    "                print(f\"File: {src} does not exist.\")\n",
    "\n",
    "        seg_src = os.path.join(full_path, f\"{patient_folder}-seg.nii.gz\")\n",
    "        seg_dst = os.path.join(segmentation_dir, f\"BraTs{abbreviation}_{patient_id}_seg.nii.gz\")\n",
    "        if os.path.exists(seg_src):\n",
    "            shutil.copy(seg_src, seg_dst)\n",
    "        else:\n",
    "            print(f\"Segmentation file {seg_src} is missing.\")\n",
    "    \n",
    "    print(f\"Processing complete. Files are available in '{output_root}'.\")"
   ]
  },
  {
   "cell_type": "markdown",
   "id": "3f951dbd",
   "metadata": {},
   "source": [
    "# BraTS 2023"
   ]
  },
  {
   "cell_type": "code",
   "execution_count": 15,
   "id": "5244dded",
   "metadata": {},
   "outputs": [
    {
     "name": "stdout",
     "output_type": "stream",
     "text": [
      "Chose 20 patients from 1251 available.\n",
      "Processing complete. Files are available in 'C:\\Users\\szlin\\Desktop\\Studia\\WB 2\\BraTs_2023_processed'.\n"
     ]
    }
   ],
   "source": [
    "prepare_brats_data(\n",
    "    folder_path=r\"C:\\Users\\szlin\\Desktop\\Studia\\WB 2\\BraTs_2023\",\n",
    "    abbreviation=\"2023\",\n",
    "    sample_size=20\n",
    ")"
   ]
  },
  {
   "cell_type": "markdown",
   "id": "e0c66225",
   "metadata": {},
   "source": [
    "# BraTS Africa"
   ]
  },
  {
   "cell_type": "code",
   "execution_count": 16,
   "id": "f6369318",
   "metadata": {},
   "outputs": [
    {
     "name": "stdout",
     "output_type": "stream",
     "text": [
      "Chose 20 patients from 60 available.\n",
      "Processing complete. Files are available in 'C:\\Users\\szlin\\Desktop\\Studia\\WB 2\\BraTs_Africa_processed'.\n"
     ]
    }
   ],
   "source": [
    "prepare_brats_data(\n",
    "    folder_path=r\"C:\\Users\\szlin\\Desktop\\Studia\\WB 2\\BraTs_Africa\",\n",
    "    abbreviation=\"Africa\",\n",
    "    sample_size=20\n",
    ")"
   ]
  },
  {
   "cell_type": "markdown",
   "id": "25d50297",
   "metadata": {},
   "source": [
    "# **Run Segmentation**"
   ]
  },
  {
   "cell_type": "code",
   "execution_count": null,
   "id": "5e712177",
   "metadata": {},
   "outputs": [
    {
     "name": "stdout",
     "output_type": "stream",
     "text": [
      "Directory: /home/fylypo/WB/BraTs_2023_processed does not exist.\n"
     ]
    }
   ],
   "source": [
    "import os\n",
    "import shutil\n",
    "import subprocess\n",
    "from tqdm import tqdm\n",
    "\n",
    "def empty_directory(target_dir):\n",
    "    for entry in os.listdir(target_dir):\n",
    "        entry_path = os.path.join(target_dir, entry)\n",
    "        if os.path.isfile(entry_path):\n",
    "            os.remove(entry_path)\n",
    "\n",
    "def perform_segmentation_on_folder(base_folder):\n",
    "    all_dir = os.path.join(base_folder, \"all\")\n",
    "    in_dir = os.path.join(base_folder, \"input\")\n",
    "    out_dir = os.path.join(base_folder, \"output\")\n",
    "\n",
    "    unique_ids = set()\n",
    "    for filename in os.listdir(all_dir):\n",
    "        split_name = filename.split(\"_\")\n",
    "        if len(split_name) > 1:\n",
    "            unique_ids.add(split_name[1])\n",
    "    sorted_ids = sorted(unique_ids)\n",
    "\n",
    "    empty_directory(in_dir)\n",
    "\n",
    "    progress_bar = tqdm(sorted_ids, desc=f\"Segmenting: {os.path.basename(base_folder)}\",\n",
    "                        bar_format=\"{l_bar}%s{bar}%s{r_bar}\" % (\"\\033[32m\", \"\\033[0m\"), ncols=80)\n",
    "\n",
    "    for case_id in progress_bar:\n",
    "        related_files = [fname for fname in os.listdir(all_dir) if case_id in fname]\n",
    "        for fname in related_files:\n",
    "            shutil.copy2(os.path.join(all_dir, fname), os.path.join(in_dir, fname))\n",
    "\n",
    "        subprocess.run([\n",
    "            \"docker\", \"run\", \"--rm\", \"--gpus\", \"all\",\n",
    "            \"-v\", f\"{in_dir}:/input\",\n",
    "            \"-v\", f\"{out_dir}:/output\",\n",
    "            \"rixez/brats21nnunet\"\n",
    "        ])\n",
    "\n",
    "        empty_directory(in_dir)\n",
    "\n",
    "def main():\n",
    "    processed_folders = [\n",
    "        r\"/home/fylypo/WB/BraTs_2023_processed\",\n",
    "        r\"/home/fylypo/WB/BraTs_Africa_processed\"\n",
    "    ]\n",
    "\n",
    "    for folder in processed_folders:\n",
    "        if not os.path.isdir(folder):\n",
    "            print(f\"Folder not found: {folder}\")\n",
    "            continue\n",
    "        perform_segmentation_on_folder(folder)\n",
    "\n",
    "if __name__ == \"__main__\":\n",
    "    main()"
   ]
  },
  {
   "cell_type": "markdown",
   "id": "f944ff86",
   "metadata": {},
   "source": [
    "# **Change Labels**"
   ]
  },
  {
   "cell_type": "code",
   "execution_count": 1,
   "id": "7d2b0d24",
   "metadata": {},
   "outputs": [],
   "source": [
    "import nibabel as nib\n",
    "import os\n",
    "\n",
    "def change_label_4_to_3(output_dir, abbreviation):\n",
    "    for filename in os.listdir(output_dir):\n",
    "        if filename.endswith(\".nii.gz\"):\n",
    "            file_path = os.path.join(output_dir, filename)\n",
    "            pred = nib.load(file_path)\n",
    "            data = pred.get_fdata()\n",
    "            data[data == 4] = 3\n",
    "\n",
    "            new_seg = nib.Nifti1Image(data, pred.affine, pred.header)\n",
    "            new_filename = f\"BraTS{abbreviation}_{filename}\"\n",
    "            new_file_path = os.path.join(output_dir, new_filename)\n",
    "            nib.save(new_seg, new_file_path)\n",
    "            os.remove(file_path)\n",
    "            print(f\"Changed label 4 to 3 and renamed {file_path} to {new_file_path}\")"
   ]
  },
  {
   "cell_type": "markdown",
   "id": "36858918",
   "metadata": {},
   "source": [
    "# BraTS 2023"
   ]
  },
  {
   "cell_type": "code",
   "execution_count": 4,
   "id": "3c8e46cd",
   "metadata": {},
   "outputs": [
    {
     "name": "stdout",
     "output_type": "stream",
     "text": [
      "Changed label 4 to 3 and renamed C:\\Users\\szlin\\Desktop\\Studia\\WB 2\\BraTs_2023_processed\\output\\00035.nii.gz to C:\\Users\\szlin\\Desktop\\Studia\\WB 2\\BraTs_2023_processed\\output\\BraTS2023_00035.nii.gz\n",
      "Changed label 4 to 3 and renamed C:\\Users\\szlin\\Desktop\\Studia\\WB 2\\BraTs_2023_processed\\output\\00194.nii.gz to C:\\Users\\szlin\\Desktop\\Studia\\WB 2\\BraTs_2023_processed\\output\\BraTS2023_00194.nii.gz\n",
      "Changed label 4 to 3 and renamed C:\\Users\\szlin\\Desktop\\Studia\\WB 2\\BraTs_2023_processed\\output\\00214.nii.gz to C:\\Users\\szlin\\Desktop\\Studia\\WB 2\\BraTs_2023_processed\\output\\BraTS2023_00214.nii.gz\n",
      "Changed label 4 to 3 and renamed C:\\Users\\szlin\\Desktop\\Studia\\WB 2\\BraTs_2023_processed\\output\\00348.nii.gz to C:\\Users\\szlin\\Desktop\\Studia\\WB 2\\BraTs_2023_processed\\output\\BraTS2023_00348.nii.gz\n",
      "Changed label 4 to 3 and renamed C:\\Users\\szlin\\Desktop\\Studia\\WB 2\\BraTs_2023_processed\\output\\00373.nii.gz to C:\\Users\\szlin\\Desktop\\Studia\\WB 2\\BraTs_2023_processed\\output\\BraTS2023_00373.nii.gz\n",
      "Changed label 4 to 3 and renamed C:\\Users\\szlin\\Desktop\\Studia\\WB 2\\BraTs_2023_processed\\output\\00390.nii.gz to C:\\Users\\szlin\\Desktop\\Studia\\WB 2\\BraTs_2023_processed\\output\\BraTS2023_00390.nii.gz\n",
      "Changed label 4 to 3 and renamed C:\\Users\\szlin\\Desktop\\Studia\\WB 2\\BraTs_2023_processed\\output\\00502.nii.gz to C:\\Users\\szlin\\Desktop\\Studia\\WB 2\\BraTs_2023_processed\\output\\BraTS2023_00502.nii.gz\n",
      "Changed label 4 to 3 and renamed C:\\Users\\szlin\\Desktop\\Studia\\WB 2\\BraTs_2023_processed\\output\\00556.nii.gz to C:\\Users\\szlin\\Desktop\\Studia\\WB 2\\BraTs_2023_processed\\output\\BraTS2023_00556.nii.gz\n",
      "Changed label 4 to 3 and renamed C:\\Users\\szlin\\Desktop\\Studia\\WB 2\\BraTs_2023_processed\\output\\00591.nii.gz to C:\\Users\\szlin\\Desktop\\Studia\\WB 2\\BraTs_2023_processed\\output\\BraTS2023_00591.nii.gz\n",
      "Changed label 4 to 3 and renamed C:\\Users\\szlin\\Desktop\\Studia\\WB 2\\BraTs_2023_processed\\output\\00630.nii.gz to C:\\Users\\szlin\\Desktop\\Studia\\WB 2\\BraTs_2023_processed\\output\\BraTS2023_00630.nii.gz\n",
      "Changed label 4 to 3 and renamed C:\\Users\\szlin\\Desktop\\Studia\\WB 2\\BraTs_2023_processed\\output\\00654.nii.gz to C:\\Users\\szlin\\Desktop\\Studia\\WB 2\\BraTs_2023_processed\\output\\BraTS2023_00654.nii.gz\n",
      "Changed label 4 to 3 and renamed C:\\Users\\szlin\\Desktop\\Studia\\WB 2\\BraTs_2023_processed\\output\\00807.nii.gz to C:\\Users\\szlin\\Desktop\\Studia\\WB 2\\BraTs_2023_processed\\output\\BraTS2023_00807.nii.gz\n",
      "Changed label 4 to 3 and renamed C:\\Users\\szlin\\Desktop\\Studia\\WB 2\\BraTs_2023_processed\\output\\01161.nii.gz to C:\\Users\\szlin\\Desktop\\Studia\\WB 2\\BraTs_2023_processed\\output\\BraTS2023_01161.nii.gz\n",
      "Changed label 4 to 3 and renamed C:\\Users\\szlin\\Desktop\\Studia\\WB 2\\BraTs_2023_processed\\output\\01210.nii.gz to C:\\Users\\szlin\\Desktop\\Studia\\WB 2\\BraTs_2023_processed\\output\\BraTS2023_01210.nii.gz\n",
      "Changed label 4 to 3 and renamed C:\\Users\\szlin\\Desktop\\Studia\\WB 2\\BraTs_2023_processed\\output\\01333.nii.gz to C:\\Users\\szlin\\Desktop\\Studia\\WB 2\\BraTs_2023_processed\\output\\BraTS2023_01333.nii.gz\n",
      "Changed label 4 to 3 and renamed C:\\Users\\szlin\\Desktop\\Studia\\WB 2\\BraTs_2023_processed\\output\\01342.nii.gz to C:\\Users\\szlin\\Desktop\\Studia\\WB 2\\BraTs_2023_processed\\output\\BraTS2023_01342.nii.gz\n",
      "Changed label 4 to 3 and renamed C:\\Users\\szlin\\Desktop\\Studia\\WB 2\\BraTs_2023_processed\\output\\01355.nii.gz to C:\\Users\\szlin\\Desktop\\Studia\\WB 2\\BraTs_2023_processed\\output\\BraTS2023_01355.nii.gz\n",
      "Changed label 4 to 3 and renamed C:\\Users\\szlin\\Desktop\\Studia\\WB 2\\BraTs_2023_processed\\output\\01370.nii.gz to C:\\Users\\szlin\\Desktop\\Studia\\WB 2\\BraTs_2023_processed\\output\\BraTS2023_01370.nii.gz\n",
      "Changed label 4 to 3 and renamed C:\\Users\\szlin\\Desktop\\Studia\\WB 2\\BraTs_2023_processed\\output\\01456.nii.gz to C:\\Users\\szlin\\Desktop\\Studia\\WB 2\\BraTs_2023_processed\\output\\BraTS2023_01456.nii.gz\n",
      "Changed label 4 to 3 and renamed C:\\Users\\szlin\\Desktop\\Studia\\WB 2\\BraTs_2023_processed\\output\\01532.nii.gz to C:\\Users\\szlin\\Desktop\\Studia\\WB 2\\BraTs_2023_processed\\output\\BraTS2023_01532.nii.gz\n"
     ]
    }
   ],
   "source": [
    "change_label_4_to_3(r\"C:\\Users\\szlin\\Desktop\\Studia\\WB 2\\BraTs_2023_processed\\output\", \"2023\")"
   ]
  },
  {
   "cell_type": "markdown",
   "id": "6329ef82",
   "metadata": {},
   "source": [
    "# BraTS Africa"
   ]
  },
  {
   "cell_type": "code",
   "execution_count": 5,
   "id": "ed9be236",
   "metadata": {},
   "outputs": [
    {
     "name": "stdout",
     "output_type": "stream",
     "text": [
      "Changed label 4 to 3 and renamed C:\\Users\\szlin\\Desktop\\Studia\\WB 2\\BraTs_Africa_processed\\output\\00007.nii.gz to C:\\Users\\szlin\\Desktop\\Studia\\WB 2\\BraTs_Africa_processed\\output\\BraTSAfrica_00007.nii.gz\n",
      "Changed label 4 to 3 and renamed C:\\Users\\szlin\\Desktop\\Studia\\WB 2\\BraTs_Africa_processed\\output\\00010.nii.gz to C:\\Users\\szlin\\Desktop\\Studia\\WB 2\\BraTs_Africa_processed\\output\\BraTSAfrica_00010.nii.gz\n",
      "Changed label 4 to 3 and renamed C:\\Users\\szlin\\Desktop\\Studia\\WB 2\\BraTs_Africa_processed\\output\\00028.nii.gz to C:\\Users\\szlin\\Desktop\\Studia\\WB 2\\BraTs_Africa_processed\\output\\BraTSAfrica_00028.nii.gz\n",
      "Changed label 4 to 3 and renamed C:\\Users\\szlin\\Desktop\\Studia\\WB 2\\BraTs_Africa_processed\\output\\00050.nii.gz to C:\\Users\\szlin\\Desktop\\Studia\\WB 2\\BraTs_Africa_processed\\output\\BraTSAfrica_00050.nii.gz\n",
      "Changed label 4 to 3 and renamed C:\\Users\\szlin\\Desktop\\Studia\\WB 2\\BraTs_Africa_processed\\output\\00051.nii.gz to C:\\Users\\szlin\\Desktop\\Studia\\WB 2\\BraTs_Africa_processed\\output\\BraTSAfrica_00051.nii.gz\n",
      "Changed label 4 to 3 and renamed C:\\Users\\szlin\\Desktop\\Studia\\WB 2\\BraTs_Africa_processed\\output\\00076.nii.gz to C:\\Users\\szlin\\Desktop\\Studia\\WB 2\\BraTs_Africa_processed\\output\\BraTSAfrica_00076.nii.gz\n",
      "Changed label 4 to 3 and renamed C:\\Users\\szlin\\Desktop\\Studia\\WB 2\\BraTs_Africa_processed\\output\\00080.nii.gz to C:\\Users\\szlin\\Desktop\\Studia\\WB 2\\BraTs_Africa_processed\\output\\BraTSAfrica_00080.nii.gz\n",
      "Changed label 4 to 3 and renamed C:\\Users\\szlin\\Desktop\\Studia\\WB 2\\BraTs_Africa_processed\\output\\00081.nii.gz to C:\\Users\\szlin\\Desktop\\Studia\\WB 2\\BraTs_Africa_processed\\output\\BraTSAfrica_00081.nii.gz\n",
      "Changed label 4 to 3 and renamed C:\\Users\\szlin\\Desktop\\Studia\\WB 2\\BraTs_Africa_processed\\output\\00095.nii.gz to C:\\Users\\szlin\\Desktop\\Studia\\WB 2\\BraTs_Africa_processed\\output\\BraTSAfrica_00095.nii.gz\n",
      "Changed label 4 to 3 and renamed C:\\Users\\szlin\\Desktop\\Studia\\WB 2\\BraTs_Africa_processed\\output\\00096.nii.gz to C:\\Users\\szlin\\Desktop\\Studia\\WB 2\\BraTs_Africa_processed\\output\\BraTSAfrica_00096.nii.gz\n",
      "Changed label 4 to 3 and renamed C:\\Users\\szlin\\Desktop\\Studia\\WB 2\\BraTs_Africa_processed\\output\\00113.nii.gz to C:\\Users\\szlin\\Desktop\\Studia\\WB 2\\BraTs_Africa_processed\\output\\BraTSAfrica_00113.nii.gz\n",
      "Changed label 4 to 3 and renamed C:\\Users\\szlin\\Desktop\\Studia\\WB 2\\BraTs_Africa_processed\\output\\00115.nii.gz to C:\\Users\\szlin\\Desktop\\Studia\\WB 2\\BraTs_Africa_processed\\output\\BraTSAfrica_00115.nii.gz\n",
      "Changed label 4 to 3 and renamed C:\\Users\\szlin\\Desktop\\Studia\\WB 2\\BraTs_Africa_processed\\output\\00117.nii.gz to C:\\Users\\szlin\\Desktop\\Studia\\WB 2\\BraTs_Africa_processed\\output\\BraTSAfrica_00117.nii.gz\n",
      "Changed label 4 to 3 and renamed C:\\Users\\szlin\\Desktop\\Studia\\WB 2\\BraTs_Africa_processed\\output\\00131.nii.gz to C:\\Users\\szlin\\Desktop\\Studia\\WB 2\\BraTs_Africa_processed\\output\\BraTSAfrica_00131.nii.gz\n",
      "Changed label 4 to 3 and renamed C:\\Users\\szlin\\Desktop\\Studia\\WB 2\\BraTs_Africa_processed\\output\\00135.nii.gz to C:\\Users\\szlin\\Desktop\\Studia\\WB 2\\BraTs_Africa_processed\\output\\BraTSAfrica_00135.nii.gz\n",
      "Changed label 4 to 3 and renamed C:\\Users\\szlin\\Desktop\\Studia\\WB 2\\BraTs_Africa_processed\\output\\00144.nii.gz to C:\\Users\\szlin\\Desktop\\Studia\\WB 2\\BraTs_Africa_processed\\output\\BraTSAfrica_00144.nii.gz\n",
      "Changed label 4 to 3 and renamed C:\\Users\\szlin\\Desktop\\Studia\\WB 2\\BraTs_Africa_processed\\output\\00152.nii.gz to C:\\Users\\szlin\\Desktop\\Studia\\WB 2\\BraTs_Africa_processed\\output\\BraTSAfrica_00152.nii.gz\n",
      "Changed label 4 to 3 and renamed C:\\Users\\szlin\\Desktop\\Studia\\WB 2\\BraTs_Africa_processed\\output\\00213.nii.gz to C:\\Users\\szlin\\Desktop\\Studia\\WB 2\\BraTs_Africa_processed\\output\\BraTSAfrica_00213.nii.gz\n",
      "Changed label 4 to 3 and renamed C:\\Users\\szlin\\Desktop\\Studia\\WB 2\\BraTs_Africa_processed\\output\\00215.nii.gz to C:\\Users\\szlin\\Desktop\\Studia\\WB 2\\BraTs_Africa_processed\\output\\BraTSAfrica_00215.nii.gz\n",
      "Changed label 4 to 3 and renamed C:\\Users\\szlin\\Desktop\\Studia\\WB 2\\BraTs_Africa_processed\\output\\00223.nii.gz to C:\\Users\\szlin\\Desktop\\Studia\\WB 2\\BraTs_Africa_processed\\output\\BraTSAfrica_00223.nii.gz\n"
     ]
    }
   ],
   "source": [
    "change_label_4_to_3(r\"C:\\Users\\szlin\\Desktop\\Studia\\WB 2\\BraTs_Africa_processed\\output\", \"Africa\")"
   ]
  },
  {
   "cell_type": "markdown",
   "id": "c7dfd301",
   "metadata": {},
   "source": [
    "# **Calculate Dice Score: WARNING SOMETHING IS BROKEN**"
   ]
  },
  {
   "cell_type": "code",
   "execution_count": null,
   "id": "cfe66dfe",
   "metadata": {},
   "outputs": [],
   "source": [
    "import numpy as np\n",
    "import nibabel as nib\n",
    "import os\n",
    "\n",
    "def compute_brats_metrics(pred, label):\n",
    "    results = {}\n",
    "    regions = {\n",
    "        'ET': ([3], [3]),\n",
    "        'TC': ([2, 3], [2, 3]),\n",
    "        'WT': ([1, 2, 3], [1, 2, 3])\n",
    "    }\n",
    "\n",
    "    for name, (pred_classes, label_classes) in regions.items():\n",
    "        y_pred = np.isin(pred, pred_classes).astype(np.uint8)\n",
    "        y_true = np.isin(label, label_classes).astype(np.uint8)\n",
    "\n",
    "        eps = 1e-7\n",
    "        tp = np.sum(y_true * y_pred)\n",
    "        fp = np.sum(y_pred) - tp\n",
    "        fn = np.sum(y_true) - tp\n",
    "\n",
    "        results[name] = {\n",
    "            'Dice': (2 * tp + eps) / (2 * tp + fp + fn + eps),\n",
    "            'Sensitivity': tp / (tp + fn + eps),\n",
    "            'Specificity': np.sum((1 - y_true) * (1 - y_pred)) / (np.sum(1 - y_true) + eps),\n",
    "            'Volume_diff': np.abs(np.sum(y_pred.astype(np.int64)) - np.sum(y_true.astype(np.int64)))\n",
    "        }\n",
    "\n",
    "    for label_val in [1, 2, 3]:\n",
    "        y_pred = (pred == label_val).astype(np.uint8)\n",
    "        y_true = (label == label_val).astype(np.uint8)\n",
    "        eps = 1e-7\n",
    "        tp = np.sum(y_true * y_pred)\n",
    "        fp = np.sum(y_pred) - tp\n",
    "        fn = np.sum(y_true) - tp\n",
    "        dice = (2 * tp + eps) / (2 * tp + fp + fn + eps)\n",
    "        results[f\"Label_{label_val}\"] = {'Dice': dice}\n",
    "\n",
    "    return results\n",
    "\n",
    "def evaluate(labels_path, predictions_path):\n",
    "    print(\"Evaluating folder...\")\n",
    "\n",
    "    label_files = sorted([f for f in os.listdir(labels_path) if f.endswith('.nii') or f.endswith('.nii.gz')])\n",
    "    pred_files = sorted([f for f in os.listdir(predictions_path) if f.endswith('.nii') or f.endswith('.nii.gz')])\n",
    "\n",
    "    brats_results = []\n",
    "\n",
    "    for label_file, pred_file in zip(label_files, pred_files):\n",
    "        label_img = nib.load(os.path.join(labels_path, label_file))\n",
    "        pred_img = nib.load(os.path.join(predictions_path, pred_file))\n",
    "        label = label_img.get_fdata()\n",
    "        pred = pred_img.get_fdata()\n",
    "        case_metrics = compute_brats_metrics(pred, label)\n",
    "        brats_results.append(case_metrics)\n",
    "\n",
    "    region_names = ['ET', 'TC', 'WT']\n",
    "    label_names = ['Label_1', 'Label_2', 'Label_3']\n",
    "\n",
    "    region_summary = {}\n",
    "    for region in region_names:\n",
    "        dice_vals = [r[region]['Dice'] for r in brats_results]\n",
    "        sensitivity_vals = [r[region]['Sensitivity'] for r in brats_results]\n",
    "        specificity_vals = [r[region]['Specificity'] for r in brats_results]\n",
    "        vol_diff_vals = [r[region]['Volume_diff'] for r in brats_results]\n",
    "\n",
    "        region_summary[region] = {\n",
    "            'Dice Mean': round(np.mean(dice_vals), 3),\n",
    "            'Dice Std': round(np.std(dice_vals), 3),\n",
    "            'Sensitivity': round(np.mean(sensitivity_vals), 3),\n",
    "            'Specificity': round(np.mean(specificity_vals), 3),\n",
    "            'Mean Volume Diff': round(np.mean(vol_diff_vals), 1)\n",
    "        }\n",
    "\n",
    "    label_summary = {}\n",
    "    for label_name in label_names:\n",
    "        dice_vals = [r[label_name]['Dice'] for r in brats_results]\n",
    "        label_summary[label_name] = {\n",
    "            'Dice Mean': round(np.mean(dice_vals), 3),\n",
    "            'Dice Std': round(np.std(dice_vals), 3)\n",
    "        }\n",
    "\n",
    "    print(\"\\nComposite Region Metrics (WT, TC, ET):\")\n",
    "    for region, values in region_summary.items():\n",
    "        print(f\"\\n{region}:\")\n",
    "        for k, v in values.items():\n",
    "            print(f\"  {k}: {v}\")\n",
    "\n",
    "    print(\"\\nDice Scores for Individual Labels (1, 2, 3):\")\n",
    "    for label_name, values in label_summary.items():\n",
    "        print(f\"  {label_name}:\")\n",
    "        for k, v in values.items():\n",
    "            print(f\"    {k}: {v}\")"
   ]
  },
  {
   "cell_type": "markdown",
   "id": "989f03f6",
   "metadata": {},
   "source": [
    "# BraTS 2023"
   ]
  },
  {
   "cell_type": "code",
   "execution_count": 6,
   "id": "73ad2474",
   "metadata": {},
   "outputs": [
    {
     "name": "stdout",
     "output_type": "stream",
     "text": [
      "Evaluating folder...\n",
      "\n",
      "Composite Region Metrics (WT, TC, ET):\n",
      "\n",
      "ET:\n",
      "  Dice Mean: 0.0\n",
      "  Dice Std: 0.0\n",
      "  Sensitivity: 0.0\n",
      "  Specificity: 1.0\n",
      "  Mean Volume Diff: 21952.2\n",
      "\n",
      "TC:\n",
      "  Dice Mean: 0.0\n",
      "  Dice Std: 0.0\n",
      "  Sensitivity: 0.0\n",
      "  Specificity: 1.0\n",
      "  Mean Volume Diff: 64477.6\n",
      "\n",
      "WT:\n",
      "  Dice Mean: 0.0\n",
      "  Dice Std: 0.0\n",
      "  Sensitivity: 0.0\n",
      "  Specificity: 1.0\n",
      "  Mean Volume Diff: 79263.4\n",
      "\n",
      "Dice Scores for Individual Labels (1, 2, 3):\n",
      "  Label_1:\n",
      "    Dice Mean: 0.0\n",
      "    Dice Std: 0.0\n",
      "  Label_2:\n",
      "    Dice Mean: 0.0\n",
      "    Dice Std: 0.0\n",
      "  Label_3:\n",
      "    Dice Mean: 0.0\n",
      "    Dice Std: 0.0\n"
     ]
    }
   ],
   "source": [
    "evaluate(\n",
    "    r\"C:\\Users\\szlin\\Desktop\\Studia\\WB 2\\BraTs_2023_processed\\segmentation\",\n",
    "    r\"C:\\Users\\szlin\\Desktop\\Studia\\WB 2\\BraTs_2023_processed\\output\"\n",
    ")\n"
   ]
  },
  {
   "cell_type": "markdown",
   "id": "67e4e379",
   "metadata": {},
   "source": [
    "# BraTS Africa"
   ]
  },
  {
   "cell_type": "code",
   "execution_count": 7,
   "id": "2f577b03",
   "metadata": {},
   "outputs": [
    {
     "name": "stdout",
     "output_type": "stream",
     "text": [
      "Evaluating folder...\n",
      "\n",
      "Composite Region Metrics (WT, TC, ET):\n",
      "\n",
      "ET:\n",
      "  Dice Mean: 0.0\n",
      "  Dice Std: 0.0\n",
      "  Sensitivity: 0.0\n",
      "  Specificity: 1.0\n",
      "  Mean Volume Diff: 42729.0\n",
      "\n",
      "TC:\n",
      "  Dice Mean: 0.0\n",
      "  Dice Std: 0.0\n",
      "  Sensitivity: 0.0\n",
      "  Specificity: 1.0\n",
      "  Mean Volume Diff: 150004.6\n",
      "\n",
      "WT:\n",
      "  Dice Mean: 0.0\n",
      "  Dice Std: 0.0\n",
      "  Sensitivity: 0.0\n",
      "  Specificity: 1.0\n",
      "  Mean Volume Diff: 187068.8\n",
      "\n",
      "Dice Scores for Individual Labels (1, 2, 3):\n",
      "  Label_1:\n",
      "    Dice Mean: 0.05\n",
      "    Dice Std: 0.218\n",
      "  Label_2:\n",
      "    Dice Mean: 0.0\n",
      "    Dice Std: 0.0\n",
      "  Label_3:\n",
      "    Dice Mean: 0.0\n",
      "    Dice Std: 0.0\n"
     ]
    }
   ],
   "source": [
    "evaluate(\n",
    "    r\"C:\\Users\\szlin\\Desktop\\Studia\\WB 2\\BraTs_Africa_processed\\segmentation\",\n",
    "    r\"C:\\Users\\szlin\\Desktop\\Studia\\WB 2\\BraTs_Africa_processed\\output\"\n",
    ")"
   ]
  }
 ],
 "metadata": {
  "kernelspec": {
   "display_name": "base",
   "language": "python",
   "name": "python3"
  },
  "language_info": {
   "codemirror_mode": {
    "name": "ipython",
    "version": 3
   },
   "file_extension": ".py",
   "mimetype": "text/x-python",
   "name": "python",
   "nbconvert_exporter": "python",
   "pygments_lexer": "ipython3",
   "version": "3.11.7"
  }
 },
 "nbformat": 4,
 "nbformat_minor": 5
}
